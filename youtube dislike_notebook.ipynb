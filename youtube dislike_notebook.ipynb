{
 "cells": [
  {
   "cell_type": "markdown",
   "id": "b2d7c004",
   "metadata": {},
   "source": [
    "**1. Import required libraries and read the provided dataset (youtube_dislike_dataset.csv) and retrieve top\n",
    "5 and bottom 5 records.**  "
   ]
  },
  {
   "cell_type": "code",
   "execution_count": 1,
   "id": "c09e7d9b",
   "metadata": {
    "ExecuteTime": {
     "end_time": "2023-11-25T07:30:43.087733Z",
     "start_time": "2023-11-25T07:30:37.865299Z"
    }
   },
   "outputs": [],
   "source": [
    "import pandas as pd\n",
    "import numpy as np\n",
    "import datetime\n",
    "import matplotlib.pyplot as plt\n",
    "import seaborn as sns\n",
    "import os \n",
    "import warnings\n",
    "%matplotlib inline"
   ]
  },
  {
   "cell_type": "code",
   "execution_count": 2,
   "id": "718cae24",
   "metadata": {
    "ExecuteTime": {
     "end_time": "2023-11-25T07:30:45.569696Z",
     "start_time": "2023-11-25T07:30:43.092718Z"
    }
   },
   "outputs": [],
   "source": [
    "df = pd.read_csv('youtube_dislike_dataset.csv')"
   ]
  },
  {
   "cell_type": "code",
   "execution_count": 3,
   "id": "363f2f2e",
   "metadata": {
    "ExecuteTime": {
     "end_time": "2023-11-25T07:30:45.600185Z",
     "start_time": "2023-11-25T07:30:45.571689Z"
    }
   },
   "outputs": [
    {
     "data": {
      "text/html": [
       "<div>\n",
       "<style scoped>\n",
       "    .dataframe tbody tr th:only-of-type {\n",
       "        vertical-align: middle;\n",
       "    }\n",
       "\n",
       "    .dataframe tbody tr th {\n",
       "        vertical-align: top;\n",
       "    }\n",
       "\n",
       "    .dataframe thead th {\n",
       "        text-align: right;\n",
       "    }\n",
       "</style>\n",
       "<table border=\"1\" class=\"dataframe\">\n",
       "  <thead>\n",
       "    <tr style=\"text-align: right;\">\n",
       "      <th></th>\n",
       "      <th>video_id</th>\n",
       "      <th>title</th>\n",
       "      <th>channel_id</th>\n",
       "      <th>channel_title</th>\n",
       "      <th>published_at</th>\n",
       "      <th>view_count</th>\n",
       "      <th>likes</th>\n",
       "      <th>dislikes</th>\n",
       "      <th>comment_count</th>\n",
       "      <th>tags</th>\n",
       "      <th>description</th>\n",
       "      <th>comments</th>\n",
       "    </tr>\n",
       "  </thead>\n",
       "  <tbody>\n",
       "    <tr>\n",
       "      <th>0</th>\n",
       "      <td>--0bCF-iK2E</td>\n",
       "      <td>Jadon Sancho  Magical Skills &amp; Goals</td>\n",
       "      <td>UC6UL29enLNe4mqwTfAyeNuw</td>\n",
       "      <td>Bundesliga</td>\n",
       "      <td>2021-07-01 10:00:00</td>\n",
       "      <td>1048888</td>\n",
       "      <td>19515</td>\n",
       "      <td>226</td>\n",
       "      <td>1319</td>\n",
       "      <td>football soccer ftbol alemn Bundesliga season ...</td>\n",
       "      <td>Enjoy the best skills and goals from Jadon San...</td>\n",
       "      <td>Respect to Dortmund fans,must be sad losing hi...</td>\n",
       "    </tr>\n",
       "    <tr>\n",
       "      <th>1</th>\n",
       "      <td>--14w5SOEUs</td>\n",
       "      <td>Migos - Avalanche (Official Video)</td>\n",
       "      <td>UCGIelM2Dj3zza3xyV3pL3WQ</td>\n",
       "      <td>MigosVEVO</td>\n",
       "      <td>2021-06-10 16:00:00</td>\n",
       "      <td>15352638</td>\n",
       "      <td>359277</td>\n",
       "      <td>7479</td>\n",
       "      <td>18729</td>\n",
       "      <td>Migos Avalanche Quality Control Music/Motown R...</td>\n",
       "      <td>Watch the the official video for Migos - \"Aval...</td>\n",
       "      <td>Migos just makes me want to live my live to th...</td>\n",
       "    </tr>\n",
       "    <tr>\n",
       "      <th>2</th>\n",
       "      <td>--40TEbZ9Is</td>\n",
       "      <td>Supporting Actress in a Comedy: 73rd Emmys</td>\n",
       "      <td>UClBKH8yZRcM4AsRjDVEdjMg</td>\n",
       "      <td>Television Academy</td>\n",
       "      <td>2021-09-20 01:03:32</td>\n",
       "      <td>925281</td>\n",
       "      <td>11212</td>\n",
       "      <td>401</td>\n",
       "      <td>831</td>\n",
       "      <td></td>\n",
       "      <td>Hannah Waddingham wins the Emmy for Supporting...</td>\n",
       "      <td>Hannah's energy bursts through any screen. Wel...</td>\n",
       "    </tr>\n",
       "    <tr>\n",
       "      <th>3</th>\n",
       "      <td>--4tfbSyYDE</td>\n",
       "      <td>JO1'YOUNG (JO1 ver.)' PERFORMANCE VIDEO</td>\n",
       "      <td>UCsmXiDP8S40uBeJYxvyulmA</td>\n",
       "      <td>JO1</td>\n",
       "      <td>2021-03-03 10:00:17</td>\n",
       "      <td>2641597</td>\n",
       "      <td>39131</td>\n",
       "      <td>441</td>\n",
       "      <td>3745</td>\n",
       "      <td>PRODUCE101JAPAN              JO1   TheSTAR STA...</td>\n",
       "      <td>JO1'YOUNG (JO1 ver.)' PERFORMANCE VIDEO\\n\\n---...</td>\n",
       "      <td>youngVer&gt;&lt;  REN is really PERFECT. It's not ju...</td>\n",
       "    </tr>\n",
       "    <tr>\n",
       "      <th>4</th>\n",
       "      <td>--DKkzWVh-E</td>\n",
       "      <td>Why Retaining Walls Collapse</td>\n",
       "      <td>UCMOqf8ab-42UUQIdVoKwjlQ</td>\n",
       "      <td>Practical Engineering</td>\n",
       "      <td>2021-12-07 13:00:00</td>\n",
       "      <td>715724</td>\n",
       "      <td>32887</td>\n",
       "      <td>367</td>\n",
       "      <td>1067</td>\n",
       "      <td>retaining wall New Jersey highway Direct Conne...</td>\n",
       "      <td>One of the most important (and innocuous) part...</td>\n",
       "      <td>Keep up with all my projects here: https://pr...</td>\n",
       "    </tr>\n",
       "  </tbody>\n",
       "</table>\n",
       "</div>"
      ],
      "text/plain": [
       "      video_id                                       title  \\\n",
       "0  --0bCF-iK2E        Jadon Sancho  Magical Skills & Goals   \n",
       "1  --14w5SOEUs          Migos - Avalanche (Official Video)   \n",
       "2  --40TEbZ9Is  Supporting Actress in a Comedy: 73rd Emmys   \n",
       "3  --4tfbSyYDE     JO1'YOUNG (JO1 ver.)' PERFORMANCE VIDEO   \n",
       "4  --DKkzWVh-E                Why Retaining Walls Collapse   \n",
       "\n",
       "                 channel_id          channel_title         published_at  \\\n",
       "0  UC6UL29enLNe4mqwTfAyeNuw             Bundesliga  2021-07-01 10:00:00   \n",
       "1  UCGIelM2Dj3zza3xyV3pL3WQ              MigosVEVO  2021-06-10 16:00:00   \n",
       "2  UClBKH8yZRcM4AsRjDVEdjMg     Television Academy  2021-09-20 01:03:32   \n",
       "3  UCsmXiDP8S40uBeJYxvyulmA                    JO1  2021-03-03 10:00:17   \n",
       "4  UCMOqf8ab-42UUQIdVoKwjlQ  Practical Engineering  2021-12-07 13:00:00   \n",
       "\n",
       "   view_count   likes  dislikes  comment_count  \\\n",
       "0     1048888   19515       226           1319   \n",
       "1    15352638  359277      7479          18729   \n",
       "2      925281   11212       401            831   \n",
       "3     2641597   39131       441           3745   \n",
       "4      715724   32887       367           1067   \n",
       "\n",
       "                                                tags  \\\n",
       "0  football soccer ftbol alemn Bundesliga season ...   \n",
       "1  Migos Avalanche Quality Control Music/Motown R...   \n",
       "2                                                      \n",
       "3  PRODUCE101JAPAN              JO1   TheSTAR STA...   \n",
       "4  retaining wall New Jersey highway Direct Conne...   \n",
       "\n",
       "                                         description  \\\n",
       "0  Enjoy the best skills and goals from Jadon San...   \n",
       "1  Watch the the official video for Migos - \"Aval...   \n",
       "2  Hannah Waddingham wins the Emmy for Supporting...   \n",
       "3  JO1'YOUNG (JO1 ver.)' PERFORMANCE VIDEO\\n\\n---...   \n",
       "4  One of the most important (and innocuous) part...   \n",
       "\n",
       "                                            comments  \n",
       "0  Respect to Dortmund fans,must be sad losing hi...  \n",
       "1  Migos just makes me want to live my live to th...  \n",
       "2  Hannah's energy bursts through any screen. Wel...  \n",
       "3  youngVer><  REN is really PERFECT. It's not ju...  \n",
       "4   Keep up with all my projects here: https://pr...  "
      ]
     },
     "execution_count": 3,
     "metadata": {},
     "output_type": "execute_result"
    }
   ],
   "source": [
    "#retrieve top 5 \n",
    "df.head()"
   ]
  },
  {
   "cell_type": "code",
   "execution_count": 4,
   "id": "504e97cc",
   "metadata": {
    "ExecuteTime": {
     "end_time": "2023-11-25T07:30:45.622641Z",
     "start_time": "2023-11-25T07:30:45.602180Z"
    }
   },
   "outputs": [
    {
     "data": {
      "text/html": [
       "<div>\n",
       "<style scoped>\n",
       "    .dataframe tbody tr th:only-of-type {\n",
       "        vertical-align: middle;\n",
       "    }\n",
       "\n",
       "    .dataframe tbody tr th {\n",
       "        vertical-align: top;\n",
       "    }\n",
       "\n",
       "    .dataframe thead th {\n",
       "        text-align: right;\n",
       "    }\n",
       "</style>\n",
       "<table border=\"1\" class=\"dataframe\">\n",
       "  <thead>\n",
       "    <tr style=\"text-align: right;\">\n",
       "      <th></th>\n",
       "      <th>video_id</th>\n",
       "      <th>title</th>\n",
       "      <th>channel_id</th>\n",
       "      <th>channel_title</th>\n",
       "      <th>published_at</th>\n",
       "      <th>view_count</th>\n",
       "      <th>likes</th>\n",
       "      <th>dislikes</th>\n",
       "      <th>comment_count</th>\n",
       "      <th>tags</th>\n",
       "      <th>description</th>\n",
       "      <th>comments</th>\n",
       "    </tr>\n",
       "  </thead>\n",
       "  <tbody>\n",
       "    <tr>\n",
       "      <th>37417</th>\n",
       "      <td>zzd4ydafGR0</td>\n",
       "      <td>Lil Tjay - Calling My Phone (feat. 6LACK) [Off...</td>\n",
       "      <td>UCEB4a5o_6KfjxHwNMnmj54Q</td>\n",
       "      <td>Lil Tjay</td>\n",
       "      <td>2021-02-12 05:03:49</td>\n",
       "      <td>120408275</td>\n",
       "      <td>2180780</td>\n",
       "      <td>35871</td>\n",
       "      <td>81360</td>\n",
       "      <td>Lil Tjay Steady Calling My Phone Calling My Ph...</td>\n",
       "      <td>Official video for \"Calling My Phone\" by Lil T...</td>\n",
       "      <td>'DESTINED 2 WIN' OUT NOW !! https://liltjay.ln...</td>\n",
       "    </tr>\n",
       "    <tr>\n",
       "      <th>37418</th>\n",
       "      <td>zziBybeSAtw</td>\n",
       "      <td>PELICANS at LAKERS | FULL GAME HIGHLIGHTS | Ja...</td>\n",
       "      <td>UCWJ2lWNubArHWmf3FIHbfcQ</td>\n",
       "      <td>NBA</td>\n",
       "      <td>2021-01-16 05:39:05</td>\n",
       "      <td>2841917</td>\n",
       "      <td>20759</td>\n",
       "      <td>1049</td>\n",
       "      <td>2624</td>\n",
       "      <td>NBA G League Basketball game-0022000187 Lakers...</td>\n",
       "      <td>PELICANS at LAKERS | FULL GAME HIGHLIGHTS | Ja...</td>\n",
       "      <td>Montrezl Harrell is going crazy with the rebou...</td>\n",
       "    </tr>\n",
       "    <tr>\n",
       "      <th>37419</th>\n",
       "      <td>zzk09ESX7e0</td>\n",
       "      <td>[MV]  (MAMAMOO) - Where Are We Now</td>\n",
       "      <td>UCuhAUMLzJxlP1W7mEk0_6lA</td>\n",
       "      <td>MAMAMOO</td>\n",
       "      <td>2021-06-02 09:00:10</td>\n",
       "      <td>13346678</td>\n",
       "      <td>720854</td>\n",
       "      <td>4426</td>\n",
       "      <td>90616</td>\n",
       "      <td>MAMAMOO  WAW  WAW MAMAMOO WAW Where Are We Now...</td>\n",
       "      <td>[MV]  (MAMAMOO) - Where Are We Now\\n\\nInstagra...</td>\n",
       "      <td>I honestly do not know why this song hit so ha...</td>\n",
       "    </tr>\n",
       "    <tr>\n",
       "      <th>37420</th>\n",
       "      <td>zzmQEb0Em5I</td>\n",
       "      <td>FELLIPE ESCUDERO- Master Podcast  #12</td>\n",
       "      <td>UC8NjnNWMsRqq11NYvHAQb1g</td>\n",
       "      <td>Master Podcast</td>\n",
       "      <td>2020-10-20 20:59:30</td>\n",
       "      <td>252057</td>\n",
       "      <td>19198</td>\n",
       "      <td>1234</td>\n",
       "      <td>1471</td>\n",
       "      <td>master masterpodcast lord lord vinheteiro z z ...</td>\n",
       "      <td>DOCTOR HAIR\\nhttps://www.thedoctorhair.com/?fb...</td>\n",
       "      <td>Foi um prazer passar esta tarde com vocs debat...</td>\n",
       "    </tr>\n",
       "    <tr>\n",
       "      <th>37421</th>\n",
       "      <td>zzxPZwaA-8w</td>\n",
       "      <td>Gareth Bale brace secures dramatic comeback on...</td>\n",
       "      <td>UCEg25rdRZXg32iwai6N6l0w</td>\n",
       "      <td>Tottenham Hotspur</td>\n",
       "      <td>2021-05-23 21:00:31</td>\n",
       "      <td>2252090</td>\n",
       "      <td>34063</td>\n",
       "      <td>868</td>\n",
       "      <td>2004</td>\n",
       "      <td>Spurs Tottenham Hotspur   Tottenham Leicester ...</td>\n",
       "      <td>Two minute highlights from Tottenham Hotspur's...</td>\n",
       "      <td>Thank you Kane for everything you have given t...</td>\n",
       "    </tr>\n",
       "  </tbody>\n",
       "</table>\n",
       "</div>"
      ],
      "text/plain": [
       "          video_id                                              title  \\\n",
       "37417  zzd4ydafGR0  Lil Tjay - Calling My Phone (feat. 6LACK) [Off...   \n",
       "37418  zziBybeSAtw  PELICANS at LAKERS | FULL GAME HIGHLIGHTS | Ja...   \n",
       "37419  zzk09ESX7e0                 [MV]  (MAMAMOO) - Where Are We Now   \n",
       "37420  zzmQEb0Em5I              FELLIPE ESCUDERO- Master Podcast  #12   \n",
       "37421  zzxPZwaA-8w  Gareth Bale brace secures dramatic comeback on...   \n",
       "\n",
       "                     channel_id      channel_title         published_at  \\\n",
       "37417  UCEB4a5o_6KfjxHwNMnmj54Q           Lil Tjay  2021-02-12 05:03:49   \n",
       "37418  UCWJ2lWNubArHWmf3FIHbfcQ                NBA  2021-01-16 05:39:05   \n",
       "37419  UCuhAUMLzJxlP1W7mEk0_6lA            MAMAMOO  2021-06-02 09:00:10   \n",
       "37420  UC8NjnNWMsRqq11NYvHAQb1g     Master Podcast  2020-10-20 20:59:30   \n",
       "37421  UCEg25rdRZXg32iwai6N6l0w  Tottenham Hotspur  2021-05-23 21:00:31   \n",
       "\n",
       "       view_count    likes  dislikes  comment_count  \\\n",
       "37417   120408275  2180780     35871          81360   \n",
       "37418     2841917    20759      1049           2624   \n",
       "37419    13346678   720854      4426          90616   \n",
       "37420      252057    19198      1234           1471   \n",
       "37421     2252090    34063       868           2004   \n",
       "\n",
       "                                                    tags  \\\n",
       "37417  Lil Tjay Steady Calling My Phone Calling My Ph...   \n",
       "37418  NBA G League Basketball game-0022000187 Lakers...   \n",
       "37419  MAMAMOO  WAW  WAW MAMAMOO WAW Where Are We Now...   \n",
       "37420  master masterpodcast lord lord vinheteiro z z ...   \n",
       "37421  Spurs Tottenham Hotspur   Tottenham Leicester ...   \n",
       "\n",
       "                                             description  \\\n",
       "37417  Official video for \"Calling My Phone\" by Lil T...   \n",
       "37418  PELICANS at LAKERS | FULL GAME HIGHLIGHTS | Ja...   \n",
       "37419  [MV]  (MAMAMOO) - Where Are We Now\\n\\nInstagra...   \n",
       "37420  DOCTOR HAIR\\nhttps://www.thedoctorhair.com/?fb...   \n",
       "37421  Two minute highlights from Tottenham Hotspur's...   \n",
       "\n",
       "                                                comments  \n",
       "37417  'DESTINED 2 WIN' OUT NOW !! https://liltjay.ln...  \n",
       "37418  Montrezl Harrell is going crazy with the rebou...  \n",
       "37419  I honestly do not know why this song hit so ha...  \n",
       "37420  Foi um prazer passar esta tarde com vocs debat...  \n",
       "37421  Thank you Kane for everything you have given t...  "
      ]
     },
     "execution_count": 4,
     "metadata": {},
     "output_type": "execute_result"
    }
   ],
   "source": [
    "#bottom 5 records.\n",
    "df.tail()"
   ]
  },
  {
   "cell_type": "markdown",
   "id": "1b8915a7",
   "metadata": {},
   "source": [
    "**2. Check the info of the dataframe and write your inferences on data types and shape of the dataset**"
   ]
  },
  {
   "cell_type": "code",
   "execution_count": 5,
   "id": "1efe2d76",
   "metadata": {
    "ExecuteTime": {
     "end_time": "2023-11-25T07:30:45.660621Z",
     "start_time": "2023-11-25T07:30:45.624634Z"
    }
   },
   "outputs": [
    {
     "name": "stdout",
     "output_type": "stream",
     "text": [
      "shape of data:  (37422, 12)\n",
      "*************************************\n",
      "<class 'pandas.core.frame.DataFrame'>\n",
      "RangeIndex: 37422 entries, 0 to 37421\n",
      "Data columns (total 12 columns):\n",
      " #   Column         Non-Null Count  Dtype \n",
      "---  ------         --------------  ----- \n",
      " 0   video_id       37422 non-null  object\n",
      " 1   title          37422 non-null  object\n",
      " 2   channel_id     37422 non-null  object\n",
      " 3   channel_title  37422 non-null  object\n",
      " 4   published_at   37422 non-null  object\n",
      " 5   view_count     37422 non-null  int64 \n",
      " 6   likes          37422 non-null  int64 \n",
      " 7   dislikes       37422 non-null  int64 \n",
      " 8   comment_count  37422 non-null  int64 \n",
      " 9   tags           37422 non-null  object\n",
      " 10  description    37422 non-null  object\n",
      " 11  comments       37264 non-null  object\n",
      "dtypes: int64(4), object(8)\n",
      "memory usage: 3.4+ MB\n",
      "None\n"
     ]
    }
   ],
   "source": [
    "print('shape of data: ',df.shape)\n",
    "print('*************************************')\n",
    "print(df.info())"
   ]
  },
  {
   "cell_type": "markdown",
   "id": "3d807b7e",
   "metadata": {},
   "source": [
    "**INFERENCE**\n",
    "\n",
    "The shape of the data is (37422, 12), with 37422 rows and 12 columns. Among these, 8 columns are of object type, and 4 columns are of integer type. Additionally, there are some missing values in the 'comments' column."
   ]
  },
  {
   "cell_type": "markdown",
   "id": "78cde1c9",
   "metadata": {},
   "source": [
    "**3. Check for the Percentage of the missing values and drop or impute them.**\n"
   ]
  },
  {
   "cell_type": "code",
   "execution_count": 6,
   "id": "a2e57694",
   "metadata": {
    "ExecuteTime": {
     "end_time": "2023-11-25T07:30:45.728120Z",
     "start_time": "2023-11-25T07:30:45.662595Z"
    }
   },
   "outputs": [
    {
     "name": "stdout",
     "output_type": "stream",
     "text": [
      "video_id         0.000000\n",
      "title            0.000000\n",
      "channel_id       0.000000\n",
      "channel_title    0.000000\n",
      "published_at     0.000000\n",
      "view_count       0.000000\n",
      "likes            0.000000\n",
      "dislikes         0.000000\n",
      "comment_count    0.000000\n",
      "tags             0.000000\n",
      "description      0.000000\n",
      "comments         0.422212\n",
      "dtype: float64\n",
      "total missing values:  158\n",
      "percentage of total missing values:  0.4222115333226444\n"
     ]
    }
   ],
   "source": [
    "print((df.isnull().sum() / len(df)) * 100)\n",
    "\n",
    "print('total missing values: ',df.isnull().sum().sum())\n",
    "print('percentage of total missing values: ',(df.isnull().sum().sum() / len(df)) * 100)"
   ]
  },
  {
   "cell_type": "markdown",
   "id": "3547ea7d",
   "metadata": {},
   "source": [
    "We can impute the missing values either by using KNN imputer or by using the median or mode. However, for the 'comments' column, each comment is unique. Therefore, we can't impute null values with the mode or KNN imputer. It is better to drop the missing values for this column.\n"
   ]
  },
  {
   "cell_type": "code",
   "execution_count": 7,
   "id": "8ec166ca",
   "metadata": {
    "ExecuteTime": {
     "end_time": "2023-11-25T07:30:45.761112Z",
     "start_time": "2023-11-25T07:30:45.733107Z"
    }
   },
   "outputs": [],
   "source": [
    "df.dropna(inplace=True)"
   ]
  },
  {
   "cell_type": "code",
   "execution_count": 8,
   "id": "5ee30255",
   "metadata": {
    "ExecuteTime": {
     "end_time": "2023-11-25T07:30:45.774081Z",
     "start_time": "2023-11-25T07:30:45.763110Z"
    }
   },
   "outputs": [
    {
     "data": {
      "text/plain": [
       "(37264, 12)"
      ]
     },
     "execution_count": 8,
     "metadata": {},
     "output_type": "execute_result"
    }
   ],
   "source": [
    "df.shape"
   ]
  },
  {
   "cell_type": "code",
   "execution_count": 9,
   "id": "524f44f5",
   "metadata": {
    "ExecuteTime": {
     "end_time": "2023-11-25T07:30:45.813409Z",
     "start_time": "2023-11-25T07:30:45.777085Z"
    }
   },
   "outputs": [
    {
     "data": {
      "text/plain": [
       "video_id         0\n",
       "title            0\n",
       "channel_id       0\n",
       "channel_title    0\n",
       "published_at     0\n",
       "view_count       0\n",
       "likes            0\n",
       "dislikes         0\n",
       "comment_count    0\n",
       "tags             0\n",
       "description      0\n",
       "comments         0\n",
       "dtype: int64"
      ]
     },
     "execution_count": 9,
     "metadata": {},
     "output_type": "execute_result"
    }
   ],
   "source": [
    "df.isnull().sum()"
   ]
  },
  {
   "cell_type": "markdown",
   "id": "03ab3c2a",
   "metadata": {},
   "source": [
    "**4. Check the statistical summary of both numerical and categorical columns and write your inferences**"
   ]
  },
  {
   "cell_type": "code",
   "execution_count": 10,
   "id": "0952b473",
   "metadata": {
    "ExecuteTime": {
     "end_time": "2023-11-25T07:30:45.847766Z",
     "start_time": "2023-11-25T07:30:45.816397Z"
    }
   },
   "outputs": [
    {
     "data": {
      "text/html": [
       "<div>\n",
       "<style scoped>\n",
       "    .dataframe tbody tr th:only-of-type {\n",
       "        vertical-align: middle;\n",
       "    }\n",
       "\n",
       "    .dataframe tbody tr th {\n",
       "        vertical-align: top;\n",
       "    }\n",
       "\n",
       "    .dataframe thead th {\n",
       "        text-align: right;\n",
       "    }\n",
       "</style>\n",
       "<table border=\"1\" class=\"dataframe\">\n",
       "  <thead>\n",
       "    <tr style=\"text-align: right;\">\n",
       "      <th></th>\n",
       "      <th>count</th>\n",
       "      <th>mean</th>\n",
       "      <th>std</th>\n",
       "      <th>min</th>\n",
       "      <th>25%</th>\n",
       "      <th>50%</th>\n",
       "      <th>75%</th>\n",
       "      <th>max</th>\n",
       "    </tr>\n",
       "  </thead>\n",
       "  <tbody>\n",
       "    <tr>\n",
       "      <th>view_count</th>\n",
       "      <td>37264.0</td>\n",
       "      <td>5.710821e+06</td>\n",
       "      <td>2.431304e+07</td>\n",
       "      <td>20368.0</td>\n",
       "      <td>514130.50</td>\n",
       "      <td>1321860.5</td>\n",
       "      <td>3674527.25</td>\n",
       "      <td>1.322797e+09</td>\n",
       "    </tr>\n",
       "    <tr>\n",
       "      <th>likes</th>\n",
       "      <td>37264.0</td>\n",
       "      <td>1.672867e+05</td>\n",
       "      <td>5.384931e+05</td>\n",
       "      <td>22.0</td>\n",
       "      <td>13317.25</td>\n",
       "      <td>42556.0</td>\n",
       "      <td>130966.50</td>\n",
       "      <td>3.183768e+07</td>\n",
       "    </tr>\n",
       "    <tr>\n",
       "      <th>dislikes</th>\n",
       "      <td>37264.0</td>\n",
       "      <td>4.996434e+03</td>\n",
       "      <td>3.075194e+04</td>\n",
       "      <td>3.0</td>\n",
       "      <td>282.75</td>\n",
       "      <td>798.0</td>\n",
       "      <td>2466.25</td>\n",
       "      <td>2.397733e+06</td>\n",
       "    </tr>\n",
       "    <tr>\n",
       "      <th>comment_count</th>\n",
       "      <td>37264.0</td>\n",
       "      <td>9.966953e+03</td>\n",
       "      <td>1.173465e+05</td>\n",
       "      <td>1.0</td>\n",
       "      <td>914.00</td>\n",
       "      <td>2347.0</td>\n",
       "      <td>6212.00</td>\n",
       "      <td>1.607103e+07</td>\n",
       "    </tr>\n",
       "  </tbody>\n",
       "</table>\n",
       "</div>"
      ],
      "text/plain": [
       "                 count          mean           std      min        25%  \\\n",
       "view_count     37264.0  5.710821e+06  2.431304e+07  20368.0  514130.50   \n",
       "likes          37264.0  1.672867e+05  5.384931e+05     22.0   13317.25   \n",
       "dislikes       37264.0  4.996434e+03  3.075194e+04      3.0     282.75   \n",
       "comment_count  37264.0  9.966953e+03  1.173465e+05      1.0     914.00   \n",
       "\n",
       "                     50%         75%           max  \n",
       "view_count     1321860.5  3674527.25  1.322797e+09  \n",
       "likes            42556.0   130966.50  3.183768e+07  \n",
       "dislikes           798.0     2466.25  2.397733e+06  \n",
       "comment_count     2347.0     6212.00  1.607103e+07  "
      ]
     },
     "execution_count": 10,
     "metadata": {},
     "output_type": "execute_result"
    }
   ],
   "source": [
    "df.describe().T"
   ]
  },
  {
   "cell_type": "code",
   "execution_count": 11,
   "id": "ecd1fc92",
   "metadata": {
    "ExecuteTime": {
     "end_time": "2023-11-25T07:30:45.858773Z",
     "start_time": "2023-11-25T07:30:45.850716Z"
    }
   },
   "outputs": [
    {
     "name": "stdout",
     "output_type": "stream",
     "text": [
      "view_count:  20.29443672366196\n",
      "likes:  16.195537563045306\n",
      "dislikes:  31.929725216109755\n",
      "comment_count:  88.86434120721806\n"
     ]
    }
   ],
   "source": [
    "for i in ['view_count','likes','dislikes','comment_count']:\n",
    "    print(f'{i}: ',df[i].skew())"
   ]
  },
  {
   "cell_type": "markdown",
   "id": "851b1ec4",
   "metadata": {},
   "source": [
    "**INFERENCE**\n",
    "\n",
    "In this dataset, we have four numerical columns. For the 'view_count,' the mean is higher than the median, indicating a right-skewed distribution, likely influenced by outliers. Outliers can be identified or addressed by calculating the Interquartile Range (IQR), lower fence, and upper fence.\n",
    "\n",
    "Similarly, for 'likes,' 'dislikes,' and 'comment_count,' the mean is greater than the median, suggesting the presence of significant outliers. The skewness values for all numeric columns indicate a highly right-skewed distribution. To obtain more accurate results, it is necessary to either transform the data or perform outlier treatment.\n",
    "The wide ranges in the numerical columns indicate variability in the data."
   ]
  },
  {
   "cell_type": "code",
   "execution_count": 12,
   "id": "b2153a4b",
   "metadata": {
    "ExecuteTime": {
     "end_time": "2023-11-25T07:30:46.105234Z",
     "start_time": "2023-11-25T07:30:45.861760Z"
    }
   },
   "outputs": [
    {
     "data": {
      "text/html": [
       "<div>\n",
       "<style scoped>\n",
       "    .dataframe tbody tr th:only-of-type {\n",
       "        vertical-align: middle;\n",
       "    }\n",
       "\n",
       "    .dataframe tbody tr th {\n",
       "        vertical-align: top;\n",
       "    }\n",
       "\n",
       "    .dataframe thead th {\n",
       "        text-align: right;\n",
       "    }\n",
       "</style>\n",
       "<table border=\"1\" class=\"dataframe\">\n",
       "  <thead>\n",
       "    <tr style=\"text-align: right;\">\n",
       "      <th></th>\n",
       "      <th>count</th>\n",
       "      <th>unique</th>\n",
       "      <th>top</th>\n",
       "      <th>freq</th>\n",
       "    </tr>\n",
       "  </thead>\n",
       "  <tbody>\n",
       "    <tr>\n",
       "      <th>video_id</th>\n",
       "      <td>37264</td>\n",
       "      <td>37264</td>\n",
       "      <td>--0bCF-iK2E</td>\n",
       "      <td>1</td>\n",
       "    </tr>\n",
       "    <tr>\n",
       "      <th>title</th>\n",
       "      <td>37264</td>\n",
       "      <td>36958</td>\n",
       "      <td>www</td>\n",
       "      <td>21</td>\n",
       "    </tr>\n",
       "    <tr>\n",
       "      <th>channel_id</th>\n",
       "      <td>37264</td>\n",
       "      <td>10891</td>\n",
       "      <td>UCNAf1k0yIjyGu3k9BwAg3lg</td>\n",
       "      <td>533</td>\n",
       "    </tr>\n",
       "    <tr>\n",
       "      <th>channel_title</th>\n",
       "      <td>37264</td>\n",
       "      <td>10813</td>\n",
       "      <td>Sky Sports Football</td>\n",
       "      <td>533</td>\n",
       "    </tr>\n",
       "    <tr>\n",
       "      <th>published_at</th>\n",
       "      <td>37264</td>\n",
       "      <td>36617</td>\n",
       "      <td>2020-10-16 04:00:10</td>\n",
       "      <td>6</td>\n",
       "    </tr>\n",
       "    <tr>\n",
       "      <th>tags</th>\n",
       "      <td>37264</td>\n",
       "      <td>28705</td>\n",
       "      <td></td>\n",
       "      <td>3808</td>\n",
       "    </tr>\n",
       "    <tr>\n",
       "      <th>description</th>\n",
       "      <td>37264</td>\n",
       "      <td>35479</td>\n",
       "      <td></td>\n",
       "      <td>587</td>\n",
       "    </tr>\n",
       "    <tr>\n",
       "      <th>comments</th>\n",
       "      <td>37264</td>\n",
       "      <td>37264</td>\n",
       "      <td>Respect to Dortmund fans,must be sad losing hi...</td>\n",
       "      <td>1</td>\n",
       "    </tr>\n",
       "  </tbody>\n",
       "</table>\n",
       "</div>"
      ],
      "text/plain": [
       "               count unique  \\\n",
       "video_id       37264  37264   \n",
       "title          37264  36958   \n",
       "channel_id     37264  10891   \n",
       "channel_title  37264  10813   \n",
       "published_at   37264  36617   \n",
       "tags           37264  28705   \n",
       "description    37264  35479   \n",
       "comments       37264  37264   \n",
       "\n",
       "                                                             top  freq  \n",
       "video_id                                             --0bCF-iK2E     1  \n",
       "title                                                        www    21  \n",
       "channel_id                              UCNAf1k0yIjyGu3k9BwAg3lg   533  \n",
       "channel_title                                Sky Sports Football   533  \n",
       "published_at                                 2020-10-16 04:00:10     6  \n",
       "tags                                                              3808  \n",
       "description                                                        587  \n",
       "comments       Respect to Dortmund fans,must be sad losing hi...     1  "
      ]
     },
     "execution_count": 12,
     "metadata": {},
     "output_type": "execute_result"
    }
   ],
   "source": [
    " df.describe(include='object').T"
   ]
  },
  {
   "cell_type": "markdown",
   "id": "71e984a5",
   "metadata": {},
   "source": [
    "In this dataset, the video_id and comments columns are unique identifiers, making them multimodal as each value represents its own mode. The diverse set of 36,958 video titles includes a frequently occurring mode, \"www.\" Channel information reveals 10,891 unique channel IDs and 10,813 titles, with the channel \"UCNAf1k0yIjyGu3k9BwAg3lg\" (Sky Sports Football) appearing 533 times, indicating a significant video presence. Published dates show 36,617 unique timestamps, with \"2020-10-16 04:00:10\" occurring 6 times, suggesting simultaneous releases. Tags exhibit diversity with 28,705 unique values, while 3,808 entries lack tags. Descriptions, numbering 35,479, also vary, with 587 entries lacking detailed descriptions. "
   ]
  },
  {
   "cell_type": "markdown",
   "id": "5c0d7a97",
   "metadata": {},
   "source": [
    "**5. Convert datatype of column published_at from object to pandas datetime.**"
   ]
  },
  {
   "cell_type": "code",
   "execution_count": 13,
   "id": "19edf36a",
   "metadata": {
    "ExecuteTime": {
     "end_time": "2023-11-25T07:30:46.158600Z",
     "start_time": "2023-11-25T07:30:46.108225Z"
    }
   },
   "outputs": [],
   "source": [
    "df['published_at']=  pd.to_datetime(df['published_at'])"
   ]
  },
  {
   "cell_type": "code",
   "execution_count": 14,
   "id": "6a7bd3a1",
   "metadata": {
    "ExecuteTime": {
     "end_time": "2023-11-25T07:30:46.185989Z",
     "start_time": "2023-11-25T07:30:46.160593Z"
    }
   },
   "outputs": [
    {
     "name": "stdout",
     "output_type": "stream",
     "text": [
      "<class 'pandas.core.frame.DataFrame'>\n",
      "Index: 37264 entries, 0 to 37421\n",
      "Data columns (total 12 columns):\n",
      " #   Column         Non-Null Count  Dtype         \n",
      "---  ------         --------------  -----         \n",
      " 0   video_id       37264 non-null  object        \n",
      " 1   title          37264 non-null  object        \n",
      " 2   channel_id     37264 non-null  object        \n",
      " 3   channel_title  37264 non-null  object        \n",
      " 4   published_at   37264 non-null  datetime64[ns]\n",
      " 5   view_count     37264 non-null  int64         \n",
      " 6   likes          37264 non-null  int64         \n",
      " 7   dislikes       37264 non-null  int64         \n",
      " 8   comment_count  37264 non-null  int64         \n",
      " 9   tags           37264 non-null  object        \n",
      " 10  description    37264 non-null  object        \n",
      " 11  comments       37264 non-null  object        \n",
      "dtypes: datetime64[ns](1), int64(4), object(7)\n",
      "memory usage: 3.7+ MB\n"
     ]
    }
   ],
   "source": [
    "df.info()"
   ]
  },
  {
   "cell_type": "code",
   "execution_count": 15,
   "id": "e0b87fa4",
   "metadata": {
    "ExecuteTime": {
     "end_time": "2023-11-25T07:30:46.207873Z",
     "start_time": "2023-11-25T07:30:46.187983Z"
    }
   },
   "outputs": [
    {
     "name": "stdout",
     "output_type": "stream",
     "text": [
      "datetime64[ns]\n"
     ]
    }
   ],
   "source": [
    "print(df['published_at'].dtypes)"
   ]
  },
  {
   "cell_type": "markdown",
   "id": "78cb4c7d",
   "metadata": {},
   "source": [
    "**6. Create a new column as 'published_month' using the column published_at (display the months only)**"
   ]
  },
  {
   "cell_type": "code",
   "execution_count": 16,
   "id": "06dcc68a",
   "metadata": {
    "ExecuteTime": {
     "end_time": "2023-11-25T07:30:46.238923Z",
     "start_time": "2023-11-25T07:30:46.210865Z"
    }
   },
   "outputs": [
    {
     "data": {
      "text/plain": [
       "0     7\n",
       "1     6\n",
       "2     9\n",
       "3     3\n",
       "4    12\n",
       "Name: published_month, dtype: int32"
      ]
     },
     "execution_count": 16,
     "metadata": {},
     "output_type": "execute_result"
    }
   ],
   "source": [
    "df['published_month']=df['published_at'].dt.month\n",
    "df['published_month'].head()"
   ]
  },
  {
   "cell_type": "code",
   "execution_count": 17,
   "id": "e02b9857",
   "metadata": {
    "ExecuteTime": {
     "end_time": "2023-11-25T07:30:46.265110Z",
     "start_time": "2023-11-25T07:30:46.241914Z"
    }
   },
   "outputs": [
    {
     "data": {
      "text/plain": [
       "0    July\n",
       "1    June\n",
       "2     Sep\n",
       "3     Mar\n",
       "4     Dec\n",
       "Name: published_month, dtype: object"
      ]
     },
     "execution_count": 17,
     "metadata": {},
     "output_type": "execute_result"
    }
   ],
   "source": [
    "df['published_month']=df['published_month'].replace([1,2,3,4,5,6,7,8,9,10,11,12],['Jan','Feb','Mar','Apr','May','June','July','Aug','Sep','Oct','Nov','Dec'])\n",
    "df['published_month'].head()"
   ]
  },
  {
   "cell_type": "markdown",
   "id": "42a7a649",
   "metadata": {},
   "source": [
    "**8. Find the number of videos published each month and arrange the months in a decreasing order based\n",
    "on the video count.**"
   ]
  },
  {
   "cell_type": "code",
   "execution_count": 18,
   "id": "95eb562d",
   "metadata": {
    "ExecuteTime": {
     "end_time": "2023-11-25T07:30:46.278562Z",
     "start_time": "2023-11-25T07:30:46.268102Z"
    }
   },
   "outputs": [
    {
     "data": {
      "text/plain": [
       "published_month\n",
       "Oct     4976\n",
       "Sep     4854\n",
       "Nov     4821\n",
       "Aug     4250\n",
       "Dec     3063\n",
       "July    2331\n",
       "June    2305\n",
       "Mar     2248\n",
       "Feb     2125\n",
       "Apr     2119\n",
       "Jan     2099\n",
       "May     2073\n",
       "Name: count, dtype: int64"
      ]
     },
     "execution_count": 18,
     "metadata": {},
     "output_type": "execute_result"
    }
   ],
   "source": [
    "df['published_month'].value_counts()"
   ]
  },
  {
   "cell_type": "markdown",
   "id": "1de0a158",
   "metadata": {},
   "source": [
    "**9. Find the count of unique video_id, channel_id and channel_title**"
   ]
  },
  {
   "cell_type": "code",
   "execution_count": 19,
   "id": "69a200ec",
   "metadata": {
    "ExecuteTime": {
     "end_time": "2023-11-25T07:30:46.315898Z",
     "start_time": "2023-11-25T07:30:46.281548Z"
    }
   },
   "outputs": [
    {
     "name": "stdout",
     "output_type": "stream",
     "text": [
      "The count of Uniquevideo_id is : 37264\n",
      "The count of Uniquechannel_id is : 10891\n",
      "The count of Uniquechannel_title is : 10813\n"
     ]
    }
   ],
   "source": [
    "x=['video_id','channel_id','channel_title']\n",
    "for i in x:\n",
    "    print(f'The count of Unique{i} is :',df[i].nunique())"
   ]
  },
  {
   "cell_type": "markdown",
   "id": "3f75d742",
   "metadata": {},
   "source": [
    "**10. Find the top10 channel names having the highest number of videos in the dataset and the bottom10\n",
    "having lowest number of videos.**"
   ]
  },
  {
   "cell_type": "code",
   "execution_count": 20,
   "id": "e3072424",
   "metadata": {
    "ExecuteTime": {
     "end_time": "2023-11-25T07:30:46.332927Z",
     "start_time": "2023-11-25T07:30:46.318886Z"
    }
   },
   "outputs": [
    {
     "data": {
      "text/plain": [
       "channel_title\n",
       "Sky Sports Football        533\n",
       "The United Stand           301\n",
       "BT Sport                   246\n",
       "NBA                        209\n",
       "NFL                        162\n",
       "                          ... \n",
       "JFlaMusic                    1\n",
       "Ron Bielecki                 1\n",
       "GLAD Empire                  1\n",
       "Hip Hop News Uncensored      1\n",
       "Master Podcast               1\n",
       "Name: count, Length: 10813, dtype: int64"
      ]
     },
     "execution_count": 20,
     "metadata": {},
     "output_type": "execute_result"
    }
   ],
   "source": [
    "df['channel_title'].value_counts()"
   ]
  },
  {
   "cell_type": "code",
   "execution_count": 21,
   "id": "250cadef",
   "metadata": {
    "ExecuteTime": {
     "end_time": "2023-11-25T07:30:46.352562Z",
     "start_time": "2023-11-25T07:30:46.334915Z"
    }
   },
   "outputs": [
    {
     "data": {
      "text/plain": [
       "channel_title\n",
       "Sky Sports Football    533\n",
       "The United Stand       301\n",
       "BT Sport               246\n",
       "NBA                    209\n",
       "NFL                    162\n",
       "WWE                    122\n",
       "SSSniperWolf            99\n",
       "SSundee                 98\n",
       "FORMULA 1               87\n",
       "NHL                     86\n",
       "Name: count, dtype: int64"
      ]
     },
     "execution_count": 21,
     "metadata": {},
     "output_type": "execute_result"
    }
   ],
   "source": [
    "# The top10 channel names\n",
    "df['channel_title'].value_counts().nlargest(10)"
   ]
  },
  {
   "cell_type": "code",
   "execution_count": 22,
   "id": "72894263",
   "metadata": {
    "ExecuteTime": {
     "end_time": "2023-11-25T07:30:46.377330Z",
     "start_time": "2023-11-25T07:30:46.362537Z"
    }
   },
   "outputs": [
    {
     "data": {
      "text/plain": [
       "channel_title\n",
       "Tucker Budzyn Shorts    1\n",
       "Dflow Hoops             1\n",
       "Sofia Santino           1\n",
       "Meddy                   1\n",
       "Skating ISU             1\n",
       "EmperorTigerstar        1\n",
       "Oli White               1\n",
       "elOrioN                 1\n",
       "PetrolHead              1\n",
       "EXILE                   1\n",
       "Name: count, dtype: int64"
      ]
     },
     "execution_count": 22,
     "metadata": {},
     "output_type": "execute_result"
    }
   ],
   "source": [
    "# The bottom10 having lowest number of videos\n",
    "df['channel_title'].value_counts().nsmallest(10)"
   ]
  },
  {
   "cell_type": "markdown",
   "id": "514a0e3b",
   "metadata": {
    "ExecuteTime": {
     "end_time": "2023-11-17T16:22:33.227755Z",
     "start_time": "2023-11-17T16:22:33.178026Z"
    }
   },
   "source": [
    "**11. Find the title of the video which has the maximum number of likes and the title of the video having\n",
    "minimum likes and write your inferences.**"
   ]
  },
  {
   "cell_type": "code",
   "execution_count": 23,
   "id": "a6c137f2",
   "metadata": {
    "ExecuteTime": {
     "end_time": "2023-11-25T07:30:46.450115Z",
     "start_time": "2023-11-25T07:30:46.380312Z"
    }
   },
   "outputs": [
    {
     "data": {
      "text/plain": [
       "title\n",
       "BTS () 'Dynamite' Official MV    31837675\n",
       "Name: likes, dtype: int64"
      ]
     },
     "execution_count": 23,
     "metadata": {},
     "output_type": "execute_result"
    }
   ],
   "source": [
    "df.groupby('title')['likes'].max().sort_values(ascending=False).nlargest(1)"
   ]
  },
  {
   "cell_type": "code",
   "execution_count": 24,
   "id": "931410d5",
   "metadata": {
    "ExecuteTime": {
     "end_time": "2023-11-25T07:30:46.458674Z",
     "start_time": "2023-11-25T07:30:46.452104Z"
    }
   },
   "outputs": [
    {
     "name": "stdout",
     "output_type": "stream",
     "text": [
      "the title of the video which has the maximum number of likes:  BTS () 'Dynamite' Official MV\n"
     ]
    }
   ],
   "source": [
    "a=df.loc[df['likes'].idxmax()]['title']\n",
    "print('the title of the video which has the maximum number of likes: ',a)"
   ]
  },
  {
   "cell_type": "code",
   "execution_count": 25,
   "id": "35f67687",
   "metadata": {
    "ExecuteTime": {
     "end_time": "2023-11-25T07:30:46.550451Z",
     "start_time": "2023-11-25T07:30:46.460667Z"
    }
   },
   "outputs": [
    {
     "data": {
      "text/plain": [
       "title\n",
       "Leading the Charge | Circle K    22\n",
       "Name: likes, dtype: int64"
      ]
     },
     "execution_count": 25,
     "metadata": {},
     "output_type": "execute_result"
    }
   ],
   "source": [
    "df.groupby('title')['likes'].min().sort_values(ascending=True).nsmallest(1)"
   ]
  },
  {
   "cell_type": "code",
   "execution_count": 26,
   "id": "5fc8332c",
   "metadata": {
    "ExecuteTime": {
     "end_time": "2023-11-25T07:30:46.559018Z",
     "start_time": "2023-11-25T07:30:46.553441Z"
    }
   },
   "outputs": [
    {
     "name": "stdout",
     "output_type": "stream",
     "text": [
      "the title of the video which has the minimum number of likes:  Leading the Charge | Circle K\n"
     ]
    }
   ],
   "source": [
    "b=df.loc[df['likes'].idxmin()]['title']\n",
    "print('the title of the video which has the minimum number of likes: ',b)"
   ]
  },
  {
   "cell_type": "markdown",
   "id": "87aa5646",
   "metadata": {},
   "source": [
    "**inference**\n",
    "\n",
    "The video titled \"BTS () 'Dynamite' Official MV\" stands out as the highest-liked video in the dataset, accumulating an impressive 31,837,675 likes. On the other end, the video titled \"Leading the Charge | Circle K\" has the lowest number of likes, totaling just 22. \n",
    "\n",
    "This stark contrast in likes suggests that the \"Dynamite\" music video by BTS has garnered immense popularity and positive engagement, possibly due to the global popularity of the K-pop group. In contrast, the video \"Leading the Charge | Circle K\" has not resonated as strongly with viewers, potentially indicating a less broadly appealing content."
   ]
  },
  {
   "cell_type": "markdown",
   "id": "b7e7e462",
   "metadata": {},
   "source": [
    "**12. Find the title of the video which has the maximum number of dislikes and the title of the video having\n",
    "minimum dislikes and write your inferences.**"
   ]
  },
  {
   "cell_type": "code",
   "execution_count": 27,
   "id": "7731a213",
   "metadata": {
    "ExecuteTime": {
     "end_time": "2023-11-25T07:30:46.580849Z",
     "start_time": "2023-11-25T07:30:46.562008Z"
    }
   },
   "outputs": [
    {
     "name": "stdout",
     "output_type": "stream",
     "text": [
      "the title of the video having minimum dislikes----> Tims For Good: A Taste Of The Familiar\n"
     ]
    }
   ],
   "source": [
    "a = df.loc[df['dislikes'].idxmin()]['title']\n",
    "print('the title of the video having minimum dislikes---->',a)"
   ]
  },
  {
   "cell_type": "code",
   "execution_count": 28,
   "id": "3f12de40",
   "metadata": {
    "ExecuteTime": {
     "end_time": "2023-11-25T07:30:46.603980Z",
     "start_time": "2023-11-25T07:30:46.583840Z"
    }
   },
   "outputs": [
    {
     "data": {
      "text/html": [
       "<div>\n",
       "<style scoped>\n",
       "    .dataframe tbody tr th:only-of-type {\n",
       "        vertical-align: middle;\n",
       "    }\n",
       "\n",
       "    .dataframe tbody tr th {\n",
       "        vertical-align: top;\n",
       "    }\n",
       "\n",
       "    .dataframe thead th {\n",
       "        text-align: right;\n",
       "    }\n",
       "</style>\n",
       "<table border=\"1\" class=\"dataframe\">\n",
       "  <thead>\n",
       "    <tr style=\"text-align: right;\">\n",
       "      <th></th>\n",
       "      <th>dislikes</th>\n",
       "    </tr>\n",
       "    <tr>\n",
       "      <th>title</th>\n",
       "      <th></th>\n",
       "    </tr>\n",
       "  </thead>\n",
       "  <tbody>\n",
       "    <tr>\n",
       "      <th>Tims For Good: A Taste Of The Familiar</th>\n",
       "      <td>3</td>\n",
       "    </tr>\n",
       "  </tbody>\n",
       "</table>\n",
       "</div>"
      ],
      "text/plain": [
       "                                        dislikes\n",
       "title                                           \n",
       "Tims For Good: A Taste Of The Familiar         3"
      ]
     },
     "execution_count": 28,
     "metadata": {},
     "output_type": "execute_result"
    }
   ],
   "source": [
    "df[df['dislikes'] == df['dislikes'].min()][['title','dislikes']].set_index('title')\n"
   ]
  },
  {
   "cell_type": "code",
   "execution_count": 29,
   "id": "226fd225",
   "metadata": {
    "ExecuteTime": {
     "end_time": "2023-11-25T07:30:46.620285Z",
     "start_time": "2023-11-25T07:30:46.607967Z"
    }
   },
   "outputs": [
    {
     "name": "stdout",
     "output_type": "stream",
     "text": [
      "the title of the video having maximum dislikes----> Cuties | Official Trailer | Netflix\n"
     ]
    }
   ],
   "source": [
    "a = df.loc[df['dislikes'].idxmax()]['title']\n",
    "print('the title of the video having maximum dislikes---->',a)"
   ]
  },
  {
   "cell_type": "code",
   "execution_count": 30,
   "id": "f96999f8",
   "metadata": {
    "ExecuteTime": {
     "end_time": "2023-11-25T07:30:46.650015Z",
     "start_time": "2023-11-25T07:30:46.623269Z"
    }
   },
   "outputs": [
    {
     "data": {
      "text/html": [
       "<div>\n",
       "<style scoped>\n",
       "    .dataframe tbody tr th:only-of-type {\n",
       "        vertical-align: middle;\n",
       "    }\n",
       "\n",
       "    .dataframe tbody tr th {\n",
       "        vertical-align: top;\n",
       "    }\n",
       "\n",
       "    .dataframe thead th {\n",
       "        text-align: right;\n",
       "    }\n",
       "</style>\n",
       "<table border=\"1\" class=\"dataframe\">\n",
       "  <thead>\n",
       "    <tr style=\"text-align: right;\">\n",
       "      <th></th>\n",
       "      <th>dislikes</th>\n",
       "    </tr>\n",
       "    <tr>\n",
       "      <th>title</th>\n",
       "      <th></th>\n",
       "    </tr>\n",
       "  </thead>\n",
       "  <tbody>\n",
       "    <tr>\n",
       "      <th>Cuties | Official Trailer | Netflix</th>\n",
       "      <td>2397733</td>\n",
       "    </tr>\n",
       "  </tbody>\n",
       "</table>\n",
       "</div>"
      ],
      "text/plain": [
       "                                     dislikes\n",
       "title                                        \n",
       "Cuties | Official Trailer | Netflix   2397733"
      ]
     },
     "execution_count": 30,
     "metadata": {},
     "output_type": "execute_result"
    }
   ],
   "source": [
    "df[df['dislikes'] == df['dislikes'].max()][['title','dislikes']].set_index('title')\n"
   ]
  },
  {
   "cell_type": "markdown",
   "id": "d40c517e",
   "metadata": {},
   "source": [
    "**inference**\n",
    "\n",
    "\"Tims For Good: A Taste Of The Familiar\" appears to have content that resonates well with the audience, as indicated by the remarkably low number of dislikes (3).\n",
    "\n",
    "Conversely, \"Cuties | Official Trailer | Netflix\" has generated a substantial amount of dislikes (2,397,733), suggesting that the content or themes depicted in the trailer have been met with a significant level of criticism or controversy."
   ]
  },
  {
   "cell_type": "markdown",
   "id": "4e982b6c",
   "metadata": {},
   "source": [
    "**13. Does the number of views have any effect on how many people disliked the video? Support your answer with a metric and a plot.**"
   ]
  },
  {
   "cell_type": "code",
   "execution_count": 31,
   "id": "fe824658",
   "metadata": {
    "ExecuteTime": {
     "end_time": "2023-11-25T07:30:47.082035Z",
     "start_time": "2023-11-25T07:30:46.653000Z"
    }
   },
   "outputs": [
    {
     "data": {
      "image/png": "[encoded data removed]",
      "text/plain": [
       "<Figure size 1000x600 with 1 Axes>"
      ]
     },
     "metadata": {},
     "output_type": "display_data"
    }
   ],
   "source": [
    "plt.figure(figsize=(10, 6))\n",
    "sns.scatterplot(x='view_count', y='dislikes', data=df, alpha=0.5)\n",
    "plt.title('Scatter Plot of Views vs. Dislikes')\n",
    "plt.xlabel('Number of Views')\n",
    "plt.ylabel('Number of Dislikes')\n",
    "plt.show()"
   ]
  },
  {
   "cell_type": "code",
   "execution_count": 32,
   "id": "4c5a1500",
   "metadata": {
    "ExecuteTime": {
     "end_time": "2023-11-25T07:30:47.093129Z",
     "start_time": "2023-11-25T07:30:47.084029Z"
    }
   },
   "outputs": [
    {
     "data": {
      "text/plain": [
       "0.6845758297072607"
      ]
     },
     "execution_count": 32,
     "metadata": {},
     "output_type": "execute_result"
    }
   ],
   "source": [
    "correlation_views_dislikes = df['view_count'].corr(df['dislikes'])\n",
    "correlation_views_dislikes\n"
   ]
  },
  {
   "cell_type": "markdown",
   "id": "a475f021",
   "metadata": {},
   "source": [
    "**inference**\n",
    "\n",
    "The moderate positive correlation of 0.68 between views and dislikes, evident in the scatter plot, indicates that as video views increase, dislikes tend to rise. The linear relationship supports this correlation. However, the presence of significant outliers highlights the need for outlier treatment to avoid potential overfitting and ensure a more accurate analysis.\n",
    "\n",
    "the analysis suggests a correlation between views and dislikes, but the presence of outliers necessitates careful consideration and potential outlier treatment for more accurate and reliable conclusions."
   ]
  },
  {
   "cell_type": "markdown",
   "id": "4bc20b1c",
   "metadata": {
    "ExecuteTime": {
     "end_time": "2023-11-23T17:12:22.811877Z",
     "start_time": "2023-11-23T17:12:22.790826Z"
    }
   },
   "source": [
    "**14. Display all the information about the videos that were published in January, and mention the count of videos that were published in January.** "
   ]
  },
  {
   "cell_type": "code",
   "execution_count": 33,
   "id": "c0e69920",
   "metadata": {
    "ExecuteTime": {
     "end_time": "2023-11-25T07:30:47.125254Z",
     "start_time": "2023-11-25T07:30:47.096117Z"
    }
   },
   "outputs": [
    {
     "data": {
      "text/html": [
       "<div>\n",
       "<style scoped>\n",
       "    .dataframe tbody tr th:only-of-type {\n",
       "        vertical-align: middle;\n",
       "    }\n",
       "\n",
       "    .dataframe tbody tr th {\n",
       "        vertical-align: top;\n",
       "    }\n",
       "\n",
       "    .dataframe thead th {\n",
       "        text-align: right;\n",
       "    }\n",
       "</style>\n",
       "<table border=\"1\" class=\"dataframe\">\n",
       "  <thead>\n",
       "    <tr style=\"text-align: right;\">\n",
       "      <th></th>\n",
       "      <th>video_id</th>\n",
       "      <th>title</th>\n",
       "      <th>channel_id</th>\n",
       "      <th>channel_title</th>\n",
       "      <th>published_at</th>\n",
       "      <th>view_count</th>\n",
       "      <th>likes</th>\n",
       "      <th>dislikes</th>\n",
       "      <th>comment_count</th>\n",
       "      <th>tags</th>\n",
       "      <th>description</th>\n",
       "      <th>comments</th>\n",
       "      <th>published_month</th>\n",
       "    </tr>\n",
       "  </thead>\n",
       "  <tbody>\n",
       "    <tr>\n",
       "      <th>27</th>\n",
       "      <td>-2Gwm7QfBnE</td>\n",
       "      <td>Q&amp;A With Naisha</td>\n",
       "      <td>UCYwNMbogQFzMccPSuy-pPWg</td>\n",
       "      <td>MianTwins</td>\n",
       "      <td>2021-01-21 00:05:47</td>\n",
       "      <td>872372</td>\n",
       "      <td>38626</td>\n",
       "      <td>239</td>\n",
       "      <td>621</td>\n",
       "      <td></td>\n",
       "      <td>Hey Guys!!! this has been the most requested v...</td>\n",
       "      <td>I feel like Nate and Aishas personality match ...</td>\n",
       "      <td>Jan</td>\n",
       "    </tr>\n",
       "    <tr>\n",
       "      <th>48</th>\n",
       "      <td>-4sfXSHSxzA</td>\n",
       "      <td>SURPRISING BRENT WITH HIS TIKTOK CRUSH!!</td>\n",
       "      <td>UCPpATKqmMV-CNRNWYaDUwiA</td>\n",
       "      <td>Alexa Rivera</td>\n",
       "      <td>2021-01-16 21:40:04</td>\n",
       "      <td>6504784</td>\n",
       "      <td>262477</td>\n",
       "      <td>5779</td>\n",
       "      <td>7907</td>\n",
       "      <td></td>\n",
       "      <td>He had no idea! Thank you guys so much for wat...</td>\n",
       "      <td>Thank you guys for watching and don't forget t...</td>\n",
       "      <td>Jan</td>\n",
       "    </tr>\n",
       "    <tr>\n",
       "      <th>95</th>\n",
       "      <td>-AJD1Fc5rpQ</td>\n",
       "      <td>WE ARE HAVING A BABY! | finding out i'm pregna...</td>\n",
       "      <td>UCVsTboAhpnuL6j-tDePvNwQ</td>\n",
       "      <td>Tess Christine</td>\n",
       "      <td>2021-01-03 21:53:48</td>\n",
       "      <td>533084</td>\n",
       "      <td>38965</td>\n",
       "      <td>119</td>\n",
       "      <td>1650</td>\n",
       "      <td></td>\n",
       "      <td>I am so happy to tell you that I am pregnant!!...</td>\n",
       "      <td>Okay I needed a moment to collect my thoughts ...</td>\n",
       "      <td>Jan</td>\n",
       "    </tr>\n",
       "    <tr>\n",
       "      <th>103</th>\n",
       "      <td>-AuJiwjsmWk</td>\n",
       "      <td>Do Ugly Foods Taste Worse? Taste Test</td>\n",
       "      <td>UCzpCc5n9hqiVC7HhPwcIKEg</td>\n",
       "      <td>Good Mythical MORE</td>\n",
       "      <td>2021-01-19 11:00:01</td>\n",
       "      <td>1057077</td>\n",
       "      <td>22526</td>\n",
       "      <td>531</td>\n",
       "      <td>773</td>\n",
       "      <td>gmm good mythical morning rhettandlink rhett a...</td>\n",
       "      <td>Today, we're doing a blind taste test to deter...</td>\n",
       "      <td>\"there's nothing wrong with it being bent\"\\nI ...</td>\n",
       "      <td>Jan</td>\n",
       "    </tr>\n",
       "    <tr>\n",
       "      <th>182</th>\n",
       "      <td>-JhqO2KWr5U</td>\n",
       "      <td>Schlatt gets fit</td>\n",
       "      <td>UCWZp4y1jqBuvLtiyxSs_ZBw</td>\n",
       "      <td>Big guy</td>\n",
       "      <td>2021-01-24 22:50:57</td>\n",
       "      <td>1724965</td>\n",
       "      <td>119431</td>\n",
       "      <td>325</td>\n",
       "      <td>1578</td>\n",
       "      <td>jschlatt big guy jschlatt highlights schlatt j...</td>\n",
       "      <td>#jschlatt #schlatt #bigguy #short</td>\n",
       "      <td>Schlatt is single handedly wiping out all the ...</td>\n",
       "      <td>Jan</td>\n",
       "    </tr>\n",
       "    <tr>\n",
       "      <th>...</th>\n",
       "      <td>...</td>\n",
       "      <td>...</td>\n",
       "      <td>...</td>\n",
       "      <td>...</td>\n",
       "      <td>...</td>\n",
       "      <td>...</td>\n",
       "      <td>...</td>\n",
       "      <td>...</td>\n",
       "      <td>...</td>\n",
       "      <td>...</td>\n",
       "      <td>...</td>\n",
       "      <td>...</td>\n",
       "      <td>...</td>\n",
       "    </tr>\n",
       "    <tr>\n",
       "      <th>37300</th>\n",
       "      <td>zmzFL5bG-jc</td>\n",
       "      <td>DEVINE MON PERSONNAGE AVANT AKINATOR ! (c'est ...</td>\n",
       "      <td>UCIlr3byh6wmXgcPx_Tm9Ocw</td>\n",
       "      <td>Piwerre</td>\n",
       "      <td>2021-01-16 16:12:19</td>\n",
       "      <td>670357</td>\n",
       "      <td>54462</td>\n",
       "      <td>832</td>\n",
       "      <td>1249</td>\n",
       "      <td>Piwerre frere de michou crouton among us devin...</td>\n",
       "      <td>Discord Piwerre : https://discord.gg/QBduPgAA...</td>\n",
       "      <td>Mdr michou quand c'est pas ses tournage il fou...</td>\n",
       "      <td>Jan</td>\n",
       "    </tr>\n",
       "    <tr>\n",
       "      <th>37329</th>\n",
       "      <td>zpzjex7qwrA</td>\n",
       "      <td>Lampard Sacked Within Days Rorys Misery | Chel...</td>\n",
       "      <td>UCkD-ZOixI0a9FjIExDsHsbg</td>\n",
       "      <td>The Kick Off</td>\n",
       "      <td>2021-01-03 20:13:49</td>\n",
       "      <td>428646</td>\n",
       "      <td>12060</td>\n",
       "      <td>296</td>\n",
       "      <td>1505</td>\n",
       "      <td>Premier league Chelsea chelsea 1-3 Man City Ch...</td>\n",
       "      <td>The Kick Off watched Manchester City destroy C...</td>\n",
       "      <td>True Its like a fighter who Geordie But I thou...</td>\n",
       "      <td>Jan</td>\n",
       "    </tr>\n",
       "    <tr>\n",
       "      <th>37345</th>\n",
       "      <td>zqyv-B6mnBM</td>\n",
       "      <td>Lil Wayne - Ain't Got Time (Audio)</td>\n",
       "      <td>UCO9zJy7HWrIS3ojB4Lr7Yqw</td>\n",
       "      <td>Lil Wayne</td>\n",
       "      <td>2021-01-21 05:00:10</td>\n",
       "      <td>2238244</td>\n",
       "      <td>58925</td>\n",
       "      <td>2365</td>\n",
       "      <td>5539</td>\n",
       "      <td>lil wayne weezy weezy wednesday wayne carter y...</td>\n",
       "      <td>Official audio for Lil Wayne \"Ain't Got Time\",...</td>\n",
       "      <td>RIP Juice Wrld, wrote that on two cups, pour o...</td>\n",
       "      <td>Jan</td>\n",
       "    </tr>\n",
       "    <tr>\n",
       "      <th>37383</th>\n",
       "      <td>zwfu1-24T7Q</td>\n",
       "      <td>PRADA Cup Day 1 | Full Race Replay | PRADA Cup...</td>\n",
       "      <td>UCo15ZYO_XDRU9LI30OPtxAg</td>\n",
       "      <td>America's Cup</td>\n",
       "      <td>2021-01-15 04:07:55</td>\n",
       "      <td>317382</td>\n",
       "      <td>2008</td>\n",
       "      <td>83</td>\n",
       "      <td>192</td>\n",
       "      <td>America's Cup Americas Cup AC36 AC75 Presented...</td>\n",
       "      <td>The opening day of the PRADA Cup in Auckland, ...</td>\n",
       "      <td>Incredible how these boats evolve in a short t...</td>\n",
       "      <td>Jan</td>\n",
       "    </tr>\n",
       "    <tr>\n",
       "      <th>37418</th>\n",
       "      <td>zziBybeSAtw</td>\n",
       "      <td>PELICANS at LAKERS | FULL GAME HIGHLIGHTS | Ja...</td>\n",
       "      <td>UCWJ2lWNubArHWmf3FIHbfcQ</td>\n",
       "      <td>NBA</td>\n",
       "      <td>2021-01-16 05:39:05</td>\n",
       "      <td>2841917</td>\n",
       "      <td>20759</td>\n",
       "      <td>1049</td>\n",
       "      <td>2624</td>\n",
       "      <td>NBA G League Basketball game-0022000187 Lakers...</td>\n",
       "      <td>PELICANS at LAKERS | FULL GAME HIGHLIGHTS | Ja...</td>\n",
       "      <td>Montrezl Harrell is going crazy with the rebou...</td>\n",
       "      <td>Jan</td>\n",
       "    </tr>\n",
       "  </tbody>\n",
       "</table>\n",
       "<p>2099 rows × 13 columns</p>\n",
       "</div>"
      ],
      "text/plain": [
       "          video_id                                              title  \\\n",
       "27     -2Gwm7QfBnE                                    Q&A With Naisha   \n",
       "48     -4sfXSHSxzA           SURPRISING BRENT WITH HIS TIKTOK CRUSH!!   \n",
       "95     -AJD1Fc5rpQ  WE ARE HAVING A BABY! | finding out i'm pregna...   \n",
       "103    -AuJiwjsmWk              Do Ugly Foods Taste Worse? Taste Test   \n",
       "182    -JhqO2KWr5U                                   Schlatt gets fit   \n",
       "...            ...                                                ...   \n",
       "37300  zmzFL5bG-jc  DEVINE MON PERSONNAGE AVANT AKINATOR ! (c'est ...   \n",
       "37329  zpzjex7qwrA  Lampard Sacked Within Days Rorys Misery | Chel...   \n",
       "37345  zqyv-B6mnBM                 Lil Wayne - Ain't Got Time (Audio)   \n",
       "37383  zwfu1-24T7Q  PRADA Cup Day 1 | Full Race Replay | PRADA Cup...   \n",
       "37418  zziBybeSAtw  PELICANS at LAKERS | FULL GAME HIGHLIGHTS | Ja...   \n",
       "\n",
       "                     channel_id       channel_title        published_at  \\\n",
       "27     UCYwNMbogQFzMccPSuy-pPWg           MianTwins 2021-01-21 00:05:47   \n",
       "48     UCPpATKqmMV-CNRNWYaDUwiA        Alexa Rivera 2021-01-16 21:40:04   \n",
       "95     UCVsTboAhpnuL6j-tDePvNwQ      Tess Christine 2021-01-03 21:53:48   \n",
       "103    UCzpCc5n9hqiVC7HhPwcIKEg  Good Mythical MORE 2021-01-19 11:00:01   \n",
       "182    UCWZp4y1jqBuvLtiyxSs_ZBw             Big guy 2021-01-24 22:50:57   \n",
       "...                         ...                 ...                 ...   \n",
       "37300  UCIlr3byh6wmXgcPx_Tm9Ocw             Piwerre 2021-01-16 16:12:19   \n",
       "37329  UCkD-ZOixI0a9FjIExDsHsbg        The Kick Off 2021-01-03 20:13:49   \n",
       "37345  UCO9zJy7HWrIS3ojB4Lr7Yqw           Lil Wayne 2021-01-21 05:00:10   \n",
       "37383  UCo15ZYO_XDRU9LI30OPtxAg       America's Cup 2021-01-15 04:07:55   \n",
       "37418  UCWJ2lWNubArHWmf3FIHbfcQ                 NBA 2021-01-16 05:39:05   \n",
       "\n",
       "       view_count   likes  dislikes  comment_count  \\\n",
       "27         872372   38626       239            621   \n",
       "48        6504784  262477      5779           7907   \n",
       "95         533084   38965       119           1650   \n",
       "103       1057077   22526       531            773   \n",
       "182       1724965  119431       325           1578   \n",
       "...           ...     ...       ...            ...   \n",
       "37300      670357   54462       832           1249   \n",
       "37329      428646   12060       296           1505   \n",
       "37345     2238244   58925      2365           5539   \n",
       "37383      317382    2008        83            192   \n",
       "37418     2841917   20759      1049           2624   \n",
       "\n",
       "                                                    tags  \\\n",
       "27                                                         \n",
       "48                                                         \n",
       "95                                                         \n",
       "103    gmm good mythical morning rhettandlink rhett a...   \n",
       "182    jschlatt big guy jschlatt highlights schlatt j...   \n",
       "...                                                  ...   \n",
       "37300  Piwerre frere de michou crouton among us devin...   \n",
       "37329  Premier league Chelsea chelsea 1-3 Man City Ch...   \n",
       "37345  lil wayne weezy weezy wednesday wayne carter y...   \n",
       "37383  America's Cup Americas Cup AC36 AC75 Presented...   \n",
       "37418  NBA G League Basketball game-0022000187 Lakers...   \n",
       "\n",
       "                                             description  \\\n",
       "27     Hey Guys!!! this has been the most requested v...   \n",
       "48     He had no idea! Thank you guys so much for wat...   \n",
       "95     I am so happy to tell you that I am pregnant!!...   \n",
       "103    Today, we're doing a blind taste test to deter...   \n",
       "182                    #jschlatt #schlatt #bigguy #short   \n",
       "...                                                  ...   \n",
       "37300   Discord Piwerre : https://discord.gg/QBduPgAA...   \n",
       "37329  The Kick Off watched Manchester City destroy C...   \n",
       "37345  Official audio for Lil Wayne \"Ain't Got Time\",...   \n",
       "37383  The opening day of the PRADA Cup in Auckland, ...   \n",
       "37418  PELICANS at LAKERS | FULL GAME HIGHLIGHTS | Ja...   \n",
       "\n",
       "                                                comments published_month  \n",
       "27     I feel like Nate and Aishas personality match ...             Jan  \n",
       "48     Thank you guys for watching and don't forget t...             Jan  \n",
       "95     Okay I needed a moment to collect my thoughts ...             Jan  \n",
       "103    \"there's nothing wrong with it being bent\"\\nI ...             Jan  \n",
       "182    Schlatt is single handedly wiping out all the ...             Jan  \n",
       "...                                                  ...             ...  \n",
       "37300  Mdr michou quand c'est pas ses tournage il fou...             Jan  \n",
       "37329  True Its like a fighter who Geordie But I thou...             Jan  \n",
       "37345  RIP Juice Wrld, wrote that on two cups, pour o...             Jan  \n",
       "37383  Incredible how these boats evolve in a short t...             Jan  \n",
       "37418  Montrezl Harrell is going crazy with the rebou...             Jan  \n",
       "\n",
       "[2099 rows x 13 columns]"
      ]
     },
     "execution_count": 33,
     "metadata": {},
     "output_type": "execute_result"
    }
   ],
   "source": [
    "df[df['published_month']=='Jan']"
   ]
  },
  {
   "cell_type": "code",
   "execution_count": 34,
   "id": "0d78f990",
   "metadata": {
    "ExecuteTime": {
     "end_time": "2023-11-25T07:30:47.139270Z",
     "start_time": "2023-11-25T07:30:47.128245Z"
    }
   },
   "outputs": [
    {
     "data": {
      "text/plain": [
       "published_month     Jan\n",
       "count              2099\n",
       "Name: 10, dtype: object"
      ]
     },
     "execution_count": 34,
     "metadata": {},
     "output_type": "execute_result"
    }
   ],
   "source": [
    "a = df['published_month'].value_counts().reset_index()\n",
    "a.iloc[10]"
   ]
  },
  {
   "cell_type": "code",
   "execution_count": 35,
   "id": "27896933",
   "metadata": {
    "ExecuteTime": {
     "end_time": "2023-11-25T07:30:47.162526Z",
     "start_time": "2023-11-25T07:30:47.142259Z"
    }
   },
   "outputs": [
    {
     "name": "stdout",
     "output_type": "stream",
     "text": [
      "The count of videos that were published in January is:  2099\n"
     ]
    }
   ],
   "source": [
    "df1=df[df['published_month']=='Jan']\n",
    "a=df1['published_month'].count()\n",
    "print('The count of videos that were published in January is: ',a)\n"
   ]
  }
 ],
 "metadata": {
  "kernelspec": {
   "display_name": "Python 3 (ipykernel)",
   "language": "python",
   "name": "python3"
  },
  "language_info": {
   "codemirror_mode": {
    "name": "ipython",
    "version": 3
   },
   "file_extension": ".py",
   "mimetype": "text/x-python",
   "name": "python",
   "nbconvert_exporter": "python",
   "pygments_lexer": "ipython3",
   "version": "3.11.5"
  },
  "varInspector": {
   "cols": {
    "lenName": 16,
    "lenType": 16,
    "lenVar": 40
   },
   "kernels_config": {
    "python": {
     "delete_cmd_postfix": "",
     "delete_cmd_prefix": "del ",
     "library": "var_list.py",
     "varRefreshCmd": "print(var_dic_list())"
    },
    "r": {
     "delete_cmd_postfix": ") ",
     "delete_cmd_prefix": "rm(",
     "library": "var_list.r",
     "varRefreshCmd": "cat(var_dic_list()) "
    }
   },
   "types_to_exclude": [
    "module",
    "function",
    "builtin_function_or_method",
    "instance",
    "_Feature"
   ],
   "window_display": false
  }
 },
 "nbformat": 4,
 "nbformat_minor": 5
}
